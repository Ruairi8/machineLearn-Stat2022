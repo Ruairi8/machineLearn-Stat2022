{
 "cells": [
  {
   "cell_type": "markdown",
   "metadata": {},
   "source": [
    "# Machine Learning\n",
    "---\n",
    "### Neural Networks and Keras "
   ]
  },
  {
   "cell_type": "markdown",
   "metadata": {},
   "source": [
    "Machine learning is a branch of artificial intelligence where systems learn from data, specifically the patterns that may be present and then make decisions based on what it has learned. With the massive amounts of data being collected worldwide on a daily basis, machine learning has become a popular tool to get insights from the data."
   ]
  },
  {
   "cell_type": "markdown",
   "metadata": {},
   "source": [
    "A Neural Network is a computing system that works the same way as neuron in a human brain. It has an input layer in which a weight and bias may be applied, hidden layers and an output layer. The layers are connected by nodes to form a neural network. Deeping learning is used on very large neural networks."
   ]
  },
  {
   "cell_type": "markdown",
   "metadata": {},
   "source": [
    "There are many types of neural network, some of the best example include - convolutional neural networks (CNN), recurrent neural networks (RNN), feedforward neural networks and autoencoder neural networks.\n",
    "CNNs have five kinds of layers - input, convolution, pooling, fully connected and output. CNNs is used ina areas such as natural language processing and image classification.\n",
    "RNNs use sequential information where the inputs are not independent of each other. Examples of usage include areas involving a time series and sentiment analysis.\n",
    "In feedforward neural networks information is only fed in the forward direction, without feedback loops. \n",
    "Autencoder neural networks \"are used to create abstractions called encoders, created from a given set of inputs.\" Autoencoders model inputs by themselves, which is considered unsupervised learning. \"The premise of autoencoders is to desensitize the irrelevant and sensitize the relevant. As layers are added, further abstractions are formulated at higher layers (layers closest to the point at which a decoder layer is introduced). These abstractions can then be used by linear or nonlinear classifiers.\"[1]"
   ]
  },
  {
   "cell_type": "code",
   "execution_count": null,
   "metadata": {},
   "outputs": [],
   "source": []
  },
  {
   "cell_type": "code",
   "execution_count": null,
   "metadata": {},
   "outputs": [],
   "source": []
  },
  {
   "cell_type": "code",
   "execution_count": null,
   "metadata": {},
   "outputs": [],
   "source": []
  },
  {
   "cell_type": "markdown",
   "metadata": {},
   "source": [
    "### References:"
   ]
  },
  {
   "cell_type": "markdown",
   "metadata": {},
   "source": [
    "[SAS: Artificial Neural Network; 2022] https://www.sas.com/en_ie/insights/analytics/neural-networks.html"
   ]
  },
  {
   "cell_type": "code",
   "execution_count": null,
   "metadata": {},
   "outputs": [],
   "source": []
  }
 ],
 "metadata": {
  "kernelspec": {
   "display_name": "Python 3",
   "language": "python",
   "name": "python3"
  },
  "language_info": {
   "codemirror_mode": {
    "name": "ipython",
    "version": 3
   },
   "file_extension": ".py",
   "mimetype": "text/x-python",
   "name": "python",
   "nbconvert_exporter": "python",
   "pygments_lexer": "ipython3",
   "version": "3.8.3"
  }
 },
 "nbformat": 4,
 "nbformat_minor": 4
}
