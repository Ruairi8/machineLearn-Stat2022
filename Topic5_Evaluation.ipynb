{
 "cells": [
  {
   "cell_type": "markdown",
   "metadata": {},
   "source": [
    "# <center>Evalution</center>\n",
    "---\n",
    "---"
   ]
  },
  {
   "cell_type": "markdown",
   "metadata": {},
   "source": [
    "NAB (Numenta Anomaly Benchmark):\n",
    "- developed to detect anomalies in streaming data. It's benefits include detected potential failures and unusual patterns."
   ]
  },
  {
   "cell_type": "markdown",
   "metadata": {},
   "source": [
    "The are datasets with and without the anomaly, consisting of timestamps of five minute gaps from the first of April 2014 until 23:55pm on the 14th April 2014, creating 4032 values recorded at each of these intervals:"
   ]
  },
  {
   "cell_type": "code",
   "execution_count": 1,
   "metadata": {},
   "outputs": [],
   "source": [
    "root_url = 'https://raw.githubusercontent.com/numenta/NAB/master/data/'\n",
    "\n",
    "# Without anomaly.\n",
    "no_anomaly_url = root_url + 'artificialNoAnomaly/art_daily_small_noise.csv'\n",
    "\n",
    "# With anomaly.\n",
    "with_anomaly_url = root_url + 'artificialWithAnomaly/art_daily_jumpsup.csv'"
   ]
  },
  {
   "cell_type": "code",
   "execution_count": 2,
   "metadata": {},
   "outputs": [
    {
     "data": {
      "text/plain": [
       "'https://raw.githubusercontent.com/numenta/NAB/master/data/artificialNoAnomaly/art_daily_small_noise.csv'"
      ]
     },
     "execution_count": 2,
     "metadata": {},
     "output_type": "execute_result"
    }
   ],
   "source": [
    "no_anomaly_url"
   ]
  },
  {
   "cell_type": "code",
   "execution_count": 3,
   "metadata": {},
   "outputs": [
    {
     "data": {
      "text/plain": [
       "'https://raw.githubusercontent.com/numenta/NAB/master/data/artificialWithAnomaly/art_daily_jumpsup.csv'"
      ]
     },
     "execution_count": 3,
     "metadata": {},
     "output_type": "execute_result"
    }
   ],
   "source": [
    "with_anomaly_url"
   ]
  },
  {
   "cell_type": "code",
   "execution_count": 4,
   "metadata": {},
   "outputs": [],
   "source": [
    "import pandas as pd\n",
    "import numpy as np"
   ]
  },
  {
   "cell_type": "markdown",
   "metadata": {},
   "source": [
    "---"
   ]
  },
  {
   "cell_type": "code",
   "execution_count": 5,
   "metadata": {},
   "outputs": [
    {
     "data": {
      "text/html": [
       "<div>\n",
       "<style scoped>\n",
       "    .dataframe tbody tr th:only-of-type {\n",
       "        vertical-align: middle;\n",
       "    }\n",
       "\n",
       "    .dataframe tbody tr th {\n",
       "        vertical-align: top;\n",
       "    }\n",
       "\n",
       "    .dataframe thead th {\n",
       "        text-align: right;\n",
       "    }\n",
       "</style>\n",
       "<table border=\"1\" class=\"dataframe\">\n",
       "  <thead>\n",
       "    <tr style=\"text-align: right;\">\n",
       "      <th></th>\n",
       "      <th>value</th>\n",
       "    </tr>\n",
       "    <tr>\n",
       "      <th>timestamp</th>\n",
       "      <th></th>\n",
       "    </tr>\n",
       "  </thead>\n",
       "  <tbody>\n",
       "    <tr>\n",
       "      <th>2014-04-01 00:00:00</th>\n",
       "      <td>18.324919</td>\n",
       "    </tr>\n",
       "    <tr>\n",
       "      <th>2014-04-01 00:05:00</th>\n",
       "      <td>21.970327</td>\n",
       "    </tr>\n",
       "    <tr>\n",
       "      <th>2014-04-01 00:10:00</th>\n",
       "      <td>18.624806</td>\n",
       "    </tr>\n",
       "    <tr>\n",
       "      <th>2014-04-01 00:15:00</th>\n",
       "      <td>21.953684</td>\n",
       "    </tr>\n",
       "    <tr>\n",
       "      <th>2014-04-01 00:20:00</th>\n",
       "      <td>21.909120</td>\n",
       "    </tr>\n",
       "    <tr>\n",
       "      <th>...</th>\n",
       "      <td>...</td>\n",
       "    </tr>\n",
       "    <tr>\n",
       "      <th>2014-04-14 23:35:00</th>\n",
       "      <td>20.211195</td>\n",
       "    </tr>\n",
       "    <tr>\n",
       "      <th>2014-04-14 23:40:00</th>\n",
       "      <td>20.531041</td>\n",
       "    </tr>\n",
       "    <tr>\n",
       "      <th>2014-04-14 23:45:00</th>\n",
       "      <td>19.032127</td>\n",
       "    </tr>\n",
       "    <tr>\n",
       "      <th>2014-04-14 23:50:00</th>\n",
       "      <td>21.798801</td>\n",
       "    </tr>\n",
       "    <tr>\n",
       "      <th>2014-04-14 23:55:00</th>\n",
       "      <td>18.682620</td>\n",
       "    </tr>\n",
       "  </tbody>\n",
       "</table>\n",
       "<p>4032 rows × 1 columns</p>\n",
       "</div>"
      ],
      "text/plain": [
       "                         value\n",
       "timestamp                     \n",
       "2014-04-01 00:00:00  18.324919\n",
       "2014-04-01 00:05:00  21.970327\n",
       "2014-04-01 00:10:00  18.624806\n",
       "2014-04-01 00:15:00  21.953684\n",
       "2014-04-01 00:20:00  21.909120\n",
       "...                        ...\n",
       "2014-04-14 23:35:00  20.211195\n",
       "2014-04-14 23:40:00  20.531041\n",
       "2014-04-14 23:45:00  19.032127\n",
       "2014-04-14 23:50:00  21.798801\n",
       "2014-04-14 23:55:00  18.682620\n",
       "\n",
       "[4032 rows x 1 columns]"
      ]
     },
     "execution_count": 5,
     "metadata": {},
     "output_type": "execute_result"
    }
   ],
   "source": [
    "df_small_noise = pd.read_csv(no_anomaly_url, parse_dates=True, index_col=\"timestamp\")\n",
    "df_small_noise"
   ]
  },
  {
   "cell_type": "code",
   "execution_count": 6,
   "metadata": {
    "scrolled": true
   },
   "outputs": [
    {
     "name": "stdout",
     "output_type": "stream",
     "text": [
      "<class 'pandas.core.frame.DataFrame'>\n",
      "DatetimeIndex: 4032 entries, 2014-04-01 00:00:00 to 2014-04-14 23:55:00\n",
      "Data columns (total 1 columns):\n",
      " #   Column  Non-Null Count  Dtype  \n",
      "---  ------  --------------  -----  \n",
      " 0   value   4032 non-null   float64\n",
      "dtypes: float64(1)\n",
      "memory usage: 63.0 KB\n"
     ]
    }
   ],
   "source": [
    "df_small_noise.info()"
   ]
  },
  {
   "cell_type": "code",
   "execution_count": 7,
   "metadata": {},
   "outputs": [
    {
     "data": {
      "text/plain": [
       "18.324918539200002"
      ]
     },
     "execution_count": 7,
     "metadata": {},
     "output_type": "execute_result"
    }
   ],
   "source": [
    "df_small_noise.iloc[0]['value']"
   ]
  },
  {
   "cell_type": "code",
   "execution_count": 18,
   "metadata": {},
   "outputs": [
    {
     "data": {
      "text/plain": [
       "value    18.324919\n",
       "Name: 2014-04-01 00:00:00, dtype: float64"
      ]
     },
     "execution_count": 18,
     "metadata": {},
     "output_type": "execute_result"
    }
   ],
   "source": [
    "df_small_noise.iloc[0]"
   ]
  },
  {
   "cell_type": "code",
   "execution_count": 6,
   "metadata": {},
   "outputs": [
    {
     "data": {
      "text/html": [
       "<div>\n",
       "<style scoped>\n",
       "    .dataframe tbody tr th:only-of-type {\n",
       "        vertical-align: middle;\n",
       "    }\n",
       "\n",
       "    .dataframe tbody tr th {\n",
       "        vertical-align: top;\n",
       "    }\n",
       "\n",
       "    .dataframe thead th {\n",
       "        text-align: right;\n",
       "    }\n",
       "</style>\n",
       "<table border=\"1\" class=\"dataframe\">\n",
       "  <thead>\n",
       "    <tr style=\"text-align: right;\">\n",
       "      <th></th>\n",
       "      <th>value</th>\n",
       "    </tr>\n",
       "    <tr>\n",
       "      <th>timestamp</th>\n",
       "      <th></th>\n",
       "    </tr>\n",
       "  </thead>\n",
       "  <tbody>\n",
       "    <tr>\n",
       "      <th>2014-04-01 00:00:00</th>\n",
       "      <td>19.761252</td>\n",
       "    </tr>\n",
       "    <tr>\n",
       "      <th>2014-04-01 00:05:00</th>\n",
       "      <td>20.500833</td>\n",
       "    </tr>\n",
       "    <tr>\n",
       "      <th>2014-04-01 00:10:00</th>\n",
       "      <td>19.961641</td>\n",
       "    </tr>\n",
       "    <tr>\n",
       "      <th>2014-04-01 00:15:00</th>\n",
       "      <td>21.490266</td>\n",
       "    </tr>\n",
       "    <tr>\n",
       "      <th>2014-04-01 00:20:00</th>\n",
       "      <td>20.187739</td>\n",
       "    </tr>\n",
       "    <tr>\n",
       "      <th>...</th>\n",
       "      <td>...</td>\n",
       "    </tr>\n",
       "    <tr>\n",
       "      <th>2014-04-14 23:35:00</th>\n",
       "      <td>18.074649</td>\n",
       "    </tr>\n",
       "    <tr>\n",
       "      <th>2014-04-14 23:40:00</th>\n",
       "      <td>21.002014</td>\n",
       "    </tr>\n",
       "    <tr>\n",
       "      <th>2014-04-14 23:45:00</th>\n",
       "      <td>20.566713</td>\n",
       "    </tr>\n",
       "    <tr>\n",
       "      <th>2014-04-14 23:50:00</th>\n",
       "      <td>18.254193</td>\n",
       "    </tr>\n",
       "    <tr>\n",
       "      <th>2014-04-14 23:55:00</th>\n",
       "      <td>21.863147</td>\n",
       "    </tr>\n",
       "  </tbody>\n",
       "</table>\n",
       "<p>4032 rows × 1 columns</p>\n",
       "</div>"
      ],
      "text/plain": [
       "                         value\n",
       "timestamp                     \n",
       "2014-04-01 00:00:00  19.761252\n",
       "2014-04-01 00:05:00  20.500833\n",
       "2014-04-01 00:10:00  19.961641\n",
       "2014-04-01 00:15:00  21.490266\n",
       "2014-04-01 00:20:00  20.187739\n",
       "...                        ...\n",
       "2014-04-14 23:35:00  18.074649\n",
       "2014-04-14 23:40:00  21.002014\n",
       "2014-04-14 23:45:00  20.566713\n",
       "2014-04-14 23:50:00  18.254193\n",
       "2014-04-14 23:55:00  21.863147\n",
       "\n",
       "[4032 rows x 1 columns]"
      ]
     },
     "execution_count": 6,
     "metadata": {},
     "output_type": "execute_result"
    }
   ],
   "source": [
    "df_daily_jumpsup = pd.read_csv(with_anomaly_url, parse_dates=True, index_col=\"timestamp\")\n",
    "df_daily_jumpsup"
   ]
  },
  {
   "cell_type": "code",
   "execution_count": 7,
   "metadata": {
    "scrolled": true
   },
   "outputs": [
    {
     "data": {
      "text/html": [
       "<div>\n",
       "<style scoped>\n",
       "    .dataframe tbody tr th:only-of-type {\n",
       "        vertical-align: middle;\n",
       "    }\n",
       "\n",
       "    .dataframe tbody tr th {\n",
       "        vertical-align: top;\n",
       "    }\n",
       "\n",
       "    .dataframe thead th {\n",
       "        text-align: right;\n",
       "    }\n",
       "</style>\n",
       "<table border=\"1\" class=\"dataframe\">\n",
       "  <thead>\n",
       "    <tr style=\"text-align: right;\">\n",
       "      <th></th>\n",
       "      <th>value</th>\n",
       "    </tr>\n",
       "    <tr>\n",
       "      <th>timestamp</th>\n",
       "      <th></th>\n",
       "    </tr>\n",
       "  </thead>\n",
       "  <tbody>\n",
       "    <tr>\n",
       "      <th>2014-04-01 00:00:00</th>\n",
       "      <td>19.761252</td>\n",
       "    </tr>\n",
       "    <tr>\n",
       "      <th>2014-04-01 00:05:00</th>\n",
       "      <td>20.500833</td>\n",
       "    </tr>\n",
       "    <tr>\n",
       "      <th>2014-04-01 00:10:00</th>\n",
       "      <td>19.961641</td>\n",
       "    </tr>\n",
       "    <tr>\n",
       "      <th>2014-04-01 00:15:00</th>\n",
       "      <td>21.490266</td>\n",
       "    </tr>\n",
       "    <tr>\n",
       "      <th>2014-04-01 00:20:00</th>\n",
       "      <td>20.187739</td>\n",
       "    </tr>\n",
       "  </tbody>\n",
       "</table>\n",
       "</div>"
      ],
      "text/plain": [
       "                         value\n",
       "timestamp                     \n",
       "2014-04-01 00:00:00  19.761252\n",
       "2014-04-01 00:05:00  20.500833\n",
       "2014-04-01 00:10:00  19.961641\n",
       "2014-04-01 00:15:00  21.490266\n",
       "2014-04-01 00:20:00  20.187739"
      ]
     },
     "execution_count": 7,
     "metadata": {},
     "output_type": "execute_result"
    }
   ],
   "source": [
    "df_daily_jumpsup.head()"
   ]
  },
  {
   "cell_type": "markdown",
   "metadata": {},
   "source": [
    "---"
   ]
  },
  {
   "cell_type": "markdown",
   "metadata": {},
   "source": [
    "Normalizing or scaling the data:"
   ]
  },
  {
   "cell_type": "code",
   "execution_count": 8,
   "metadata": {},
   "outputs": [
    {
     "data": {
      "text/plain": [
       "value    42.438353\n",
       "dtype: float64"
      ]
     },
     "execution_count": 8,
     "metadata": {},
     "output_type": "execute_result"
    }
   ],
   "source": [
    "train_mean = df_small_noise.mean()\n",
    "train_mean"
   ]
  },
  {
   "cell_type": "code",
   "execution_count": 9,
   "metadata": {},
   "outputs": [
    {
     "data": {
      "text/plain": [
       "value    28.077122\n",
       "dtype: float64"
      ]
     },
     "execution_count": 9,
     "metadata": {},
     "output_type": "execute_result"
    }
   ],
   "source": [
    "train_std = df_small_noise.std()\n",
    "train_std"
   ]
  },
  {
   "cell_type": "code",
   "execution_count": 10,
   "metadata": {},
   "outputs": [],
   "source": [
    "df_train_vals = (df_small_noise - train_mean) / train_std"
   ]
  },
  {
   "cell_type": "code",
   "execution_count": 11,
   "metadata": {},
   "outputs": [
    {
     "data": {
      "text/html": [
       "<div>\n",
       "<style scoped>\n",
       "    .dataframe tbody tr th:only-of-type {\n",
       "        vertical-align: middle;\n",
       "    }\n",
       "\n",
       "    .dataframe tbody tr th {\n",
       "        vertical-align: top;\n",
       "    }\n",
       "\n",
       "    .dataframe thead th {\n",
       "        text-align: right;\n",
       "    }\n",
       "</style>\n",
       "<table border=\"1\" class=\"dataframe\">\n",
       "  <thead>\n",
       "    <tr style=\"text-align: right;\">\n",
       "      <th></th>\n",
       "      <th>value</th>\n",
       "    </tr>\n",
       "    <tr>\n",
       "      <th>timestamp</th>\n",
       "      <th></th>\n",
       "    </tr>\n",
       "  </thead>\n",
       "  <tbody>\n",
       "    <tr>\n",
       "      <th>2014-04-01 00:00:00</th>\n",
       "      <td>-0.858829</td>\n",
       "    </tr>\n",
       "    <tr>\n",
       "      <th>2014-04-01 00:05:00</th>\n",
       "      <td>-0.728993</td>\n",
       "    </tr>\n",
       "    <tr>\n",
       "      <th>2014-04-01 00:10:00</th>\n",
       "      <td>-0.848148</td>\n",
       "    </tr>\n",
       "    <tr>\n",
       "      <th>2014-04-01 00:15:00</th>\n",
       "      <td>-0.729586</td>\n",
       "    </tr>\n",
       "    <tr>\n",
       "      <th>2014-04-01 00:20:00</th>\n",
       "      <td>-0.731173</td>\n",
       "    </tr>\n",
       "    <tr>\n",
       "      <th>2014-04-01 00:25:00</th>\n",
       "      <td>-0.757310</td>\n",
       "    </tr>\n",
       "    <tr>\n",
       "      <th>2014-04-01 00:30:00</th>\n",
       "      <td>-0.776456</td>\n",
       "    </tr>\n",
       "    <tr>\n",
       "      <th>2014-04-01 00:35:00</th>\n",
       "      <td>-0.788084</td>\n",
       "    </tr>\n",
       "    <tr>\n",
       "      <th>2014-04-01 00:40:00</th>\n",
       "      <td>-0.747012</td>\n",
       "    </tr>\n",
       "    <tr>\n",
       "      <th>2014-04-01 00:45:00</th>\n",
       "      <td>-0.829166</td>\n",
       "    </tr>\n",
       "    <tr>\n",
       "      <th>2014-04-01 00:50:00</th>\n",
       "      <td>-0.803773</td>\n",
       "    </tr>\n",
       "    <tr>\n",
       "      <th>2014-04-01 00:55:00</th>\n",
       "      <td>-0.782160</td>\n",
       "    </tr>\n",
       "    <tr>\n",
       "      <th>2014-04-01 01:00:00</th>\n",
       "      <td>-0.811821</td>\n",
       "    </tr>\n",
       "    <tr>\n",
       "      <th>2014-04-01 01:05:00</th>\n",
       "      <td>-0.809499</td>\n",
       "    </tr>\n",
       "    <tr>\n",
       "      <th>2014-04-01 01:10:00</th>\n",
       "      <td>-0.823347</td>\n",
       "    </tr>\n",
       "    <tr>\n",
       "      <th>2014-04-01 01:15:00</th>\n",
       "      <td>-0.790018</td>\n",
       "    </tr>\n",
       "    <tr>\n",
       "      <th>2014-04-01 01:20:00</th>\n",
       "      <td>-0.749224</td>\n",
       "    </tr>\n",
       "    <tr>\n",
       "      <th>2014-04-01 01:25:00</th>\n",
       "      <td>-0.841690</td>\n",
       "    </tr>\n",
       "    <tr>\n",
       "      <th>2014-04-01 01:30:00</th>\n",
       "      <td>-0.737277</td>\n",
       "    </tr>\n",
       "    <tr>\n",
       "      <th>2014-04-01 01:35:00</th>\n",
       "      <td>-0.772230</td>\n",
       "    </tr>\n",
       "  </tbody>\n",
       "</table>\n",
       "</div>"
      ],
      "text/plain": [
       "                        value\n",
       "timestamp                    \n",
       "2014-04-01 00:00:00 -0.858829\n",
       "2014-04-01 00:05:00 -0.728993\n",
       "2014-04-01 00:10:00 -0.848148\n",
       "2014-04-01 00:15:00 -0.729586\n",
       "2014-04-01 00:20:00 -0.731173\n",
       "2014-04-01 00:25:00 -0.757310\n",
       "2014-04-01 00:30:00 -0.776456\n",
       "2014-04-01 00:35:00 -0.788084\n",
       "2014-04-01 00:40:00 -0.747012\n",
       "2014-04-01 00:45:00 -0.829166\n",
       "2014-04-01 00:50:00 -0.803773\n",
       "2014-04-01 00:55:00 -0.782160\n",
       "2014-04-01 01:00:00 -0.811821\n",
       "2014-04-01 01:05:00 -0.809499\n",
       "2014-04-01 01:10:00 -0.823347\n",
       "2014-04-01 01:15:00 -0.790018\n",
       "2014-04-01 01:20:00 -0.749224\n",
       "2014-04-01 01:25:00 -0.841690\n",
       "2014-04-01 01:30:00 -0.737277\n",
       "2014-04-01 01:35:00 -0.772230"
      ]
     },
     "execution_count": 11,
     "metadata": {},
     "output_type": "execute_result"
    }
   ],
   "source": [
    "df_train_vals.head(20)"
   ]
  },
  {
   "cell_type": "code",
   "execution_count": 12,
   "metadata": {},
   "outputs": [],
   "source": [
    "df_small_noise['less_mean'] = df_small_noise['value'] - df_small_noise['value'].mean()\n",
    "df_small_noise['div_std'] = df_small_noise['less_mean'] / df_small_noise['value'].std()"
   ]
  },
  {
   "cell_type": "code",
   "execution_count": 13,
   "metadata": {},
   "outputs": [
    {
     "data": {
      "text/html": [
       "<div>\n",
       "<style scoped>\n",
       "    .dataframe tbody tr th:only-of-type {\n",
       "        vertical-align: middle;\n",
       "    }\n",
       "\n",
       "    .dataframe tbody tr th {\n",
       "        vertical-align: top;\n",
       "    }\n",
       "\n",
       "    .dataframe thead th {\n",
       "        text-align: right;\n",
       "    }\n",
       "</style>\n",
       "<table border=\"1\" class=\"dataframe\">\n",
       "  <thead>\n",
       "    <tr style=\"text-align: right;\">\n",
       "      <th></th>\n",
       "      <th>value</th>\n",
       "      <th>less_mean</th>\n",
       "      <th>div_std</th>\n",
       "    </tr>\n",
       "    <tr>\n",
       "      <th>timestamp</th>\n",
       "      <th></th>\n",
       "      <th></th>\n",
       "      <th></th>\n",
       "    </tr>\n",
       "  </thead>\n",
       "  <tbody>\n",
       "    <tr>\n",
       "      <th>2014-04-01 00:00:00</th>\n",
       "      <td>18.324919</td>\n",
       "      <td>-24.113435</td>\n",
       "      <td>-0.858829</td>\n",
       "    </tr>\n",
       "    <tr>\n",
       "      <th>2014-04-01 00:05:00</th>\n",
       "      <td>21.970327</td>\n",
       "      <td>-20.468026</td>\n",
       "      <td>-0.728993</td>\n",
       "    </tr>\n",
       "    <tr>\n",
       "      <th>2014-04-01 00:10:00</th>\n",
       "      <td>18.624806</td>\n",
       "      <td>-23.813547</td>\n",
       "      <td>-0.848148</td>\n",
       "    </tr>\n",
       "    <tr>\n",
       "      <th>2014-04-01 00:15:00</th>\n",
       "      <td>21.953684</td>\n",
       "      <td>-20.484669</td>\n",
       "      <td>-0.729586</td>\n",
       "    </tr>\n",
       "    <tr>\n",
       "      <th>2014-04-01 00:20:00</th>\n",
       "      <td>21.909120</td>\n",
       "      <td>-20.529234</td>\n",
       "      <td>-0.731173</td>\n",
       "    </tr>\n",
       "    <tr>\n",
       "      <th>...</th>\n",
       "      <td>...</td>\n",
       "      <td>...</td>\n",
       "      <td>...</td>\n",
       "    </tr>\n",
       "    <tr>\n",
       "      <th>2014-04-14 23:35:00</th>\n",
       "      <td>20.211195</td>\n",
       "      <td>-22.227159</td>\n",
       "      <td>-0.791647</td>\n",
       "    </tr>\n",
       "    <tr>\n",
       "      <th>2014-04-14 23:40:00</th>\n",
       "      <td>20.531041</td>\n",
       "      <td>-21.907313</td>\n",
       "      <td>-0.780255</td>\n",
       "    </tr>\n",
       "    <tr>\n",
       "      <th>2014-04-14 23:45:00</th>\n",
       "      <td>19.032127</td>\n",
       "      <td>-23.406226</td>\n",
       "      <td>-0.833640</td>\n",
       "    </tr>\n",
       "    <tr>\n",
       "      <th>2014-04-14 23:50:00</th>\n",
       "      <td>21.798801</td>\n",
       "      <td>-20.639552</td>\n",
       "      <td>-0.735102</td>\n",
       "    </tr>\n",
       "    <tr>\n",
       "      <th>2014-04-14 23:55:00</th>\n",
       "      <td>18.682620</td>\n",
       "      <td>-23.755733</td>\n",
       "      <td>-0.846089</td>\n",
       "    </tr>\n",
       "  </tbody>\n",
       "</table>\n",
       "<p>4032 rows × 3 columns</p>\n",
       "</div>"
      ],
      "text/plain": [
       "                         value  less_mean   div_std\n",
       "timestamp                                          \n",
       "2014-04-01 00:00:00  18.324919 -24.113435 -0.858829\n",
       "2014-04-01 00:05:00  21.970327 -20.468026 -0.728993\n",
       "2014-04-01 00:10:00  18.624806 -23.813547 -0.848148\n",
       "2014-04-01 00:15:00  21.953684 -20.484669 -0.729586\n",
       "2014-04-01 00:20:00  21.909120 -20.529234 -0.731173\n",
       "...                        ...        ...       ...\n",
       "2014-04-14 23:35:00  20.211195 -22.227159 -0.791647\n",
       "2014-04-14 23:40:00  20.531041 -21.907313 -0.780255\n",
       "2014-04-14 23:45:00  19.032127 -23.406226 -0.833640\n",
       "2014-04-14 23:50:00  21.798801 -20.639552 -0.735102\n",
       "2014-04-14 23:55:00  18.682620 -23.755733 -0.846089\n",
       "\n",
       "[4032 rows x 3 columns]"
      ]
     },
     "execution_count": 13,
     "metadata": {},
     "output_type": "execute_result"
    }
   ],
   "source": [
    "df_small_noise"
   ]
  },
  {
   "cell_type": "code",
   "execution_count": 14,
   "metadata": {},
   "outputs": [
    {
     "data": {
      "image/png": "[encoded data removed]",
      "text/plain": [
       "<Figure size 720x288 with 1 Axes>"
      ]
     },
     "metadata": {
      "needs_background": "light"
     },
     "output_type": "display_data"
    }
   ],
   "source": [
    "import matplotlib.pyplot as plt\n",
    "fig, ax = plt.subplots(figsize=(10,4))\n",
    "df_train_vals.plot(legend=False, ax=ax);"
   ]
  },
  {
   "cell_type": "code",
   "execution_count": 18,
   "metadata": {},
   "outputs": [
    {
     "data": {
      "text/plain": [
       "array([-0.85882857, -0.72899302, -0.84814772, ..., -0.83364049,\n",
       "       -0.73510213, -0.8460886 ])"
      ]
     },
     "execution_count": 18,
     "metadata": {},
     "output_type": "execute_result"
    }
   ],
   "source": [
    "df_train_vals['value'].values"
   ]
  },
  {
   "cell_type": "code",
   "execution_count": 27,
   "metadata": {},
   "outputs": [
    {
     "data": {
      "text/plain": [
       "value    4032\n",
       "dtype: int64"
      ]
     },
     "execution_count": 27,
     "metadata": {},
     "output_type": "execute_result"
    }
   ],
   "source": [
    "df_train_vals.count()"
   ]
  },
  {
   "cell_type": "code",
   "execution_count": 15,
   "metadata": {},
   "outputs": [],
   "source": [
    "window_size = 288"
   ]
  },
  {
   "cell_type": "code",
   "execution_count": null,
   "metadata": {},
   "outputs": [],
   "source": [
    "A window size is like a section of a dataset."
   ]
  },
  {
   "cell_type": "code",
   "execution_count": 16,
   "metadata": {},
   "outputs": [],
   "source": [
    "def windows(vals, N=window_size):\n",
    "  L = []\n",
    "  for i in range(len(vals) - N + 1):\n",
    "    L.append(vals[i:i+N])\n",
    "  return np.stack(L)"
   ]
  },
  {
   "cell_type": "code",
   "execution_count": 17,
   "metadata": {},
   "outputs": [],
   "source": [
    "x_train = windows(df_train_vals)"
   ]
  },
  {
   "cell_type": "code",
   "execution_count": 18,
   "metadata": {},
   "outputs": [
    {
     "data": {
      "text/plain": [
       "array([[[-0.85882857],\n",
       "        [-0.72899302],\n",
       "        [-0.84814772],\n",
       "        ...,\n",
       "        [-0.86453747],\n",
       "        [-0.81250829],\n",
       "        [-0.79671155]],\n",
       "\n",
       "       [[-0.72899302],\n",
       "        [-0.84814772],\n",
       "        [-0.72958579],\n",
       "        ...,\n",
       "        [-0.81250829],\n",
       "        [-0.79671155],\n",
       "        [-0.78767946]],\n",
       "\n",
       "       [[-0.84814772],\n",
       "        [-0.72958579],\n",
       "        [-0.731173  ],\n",
       "        ...,\n",
       "        [-0.79671155],\n",
       "        [-0.78767946],\n",
       "        [-0.73706287]],\n",
       "\n",
       "       ...,\n",
       "\n",
       "       [[-0.8226548 ],\n",
       "        [-0.86660975],\n",
       "        [-0.82181363],\n",
       "        ...,\n",
       "        [-0.79164661],\n",
       "        [-0.78025492],\n",
       "        [-0.83364049]],\n",
       "\n",
       "       [[-0.86660975],\n",
       "        [-0.82181363],\n",
       "        [-0.75595835],\n",
       "        ...,\n",
       "        [-0.78025492],\n",
       "        [-0.83364049],\n",
       "        [-0.73510213]],\n",
       "\n",
       "       [[-0.82181363],\n",
       "        [-0.75595835],\n",
       "        [-0.74256753],\n",
       "        ...,\n",
       "        [-0.83364049],\n",
       "        [-0.73510213],\n",
       "        [-0.8460886 ]]])"
      ]
     },
     "execution_count": 18,
     "metadata": {},
     "output_type": "execute_result"
    }
   ],
   "source": [
    "x_train"
   ]
  },
  {
   "cell_type": "code",
   "execution_count": 26,
   "metadata": {},
   "outputs": [
    {
     "data": {
      "text/plain": [
       "(array([-0.85882857]), array([-0.8460886]))"
      ]
     },
     "execution_count": 26,
     "metadata": {},
     "output_type": "execute_result"
    }
   ],
   "source": [
    "# The first value of the first array, and the last value of the last array:\n",
    "x_train[0][0], x_train[-1][-1]"
   ]
  },
  {
   "cell_type": "code",
   "execution_count": 27,
   "metadata": {},
   "outputs": [
    {
     "data": {
      "text/plain": [
       "array([[-0.85882857],\n",
       "       [-0.72899302],\n",
       "       [-0.84814772],\n",
       "       [-0.72958579],\n",
       "       [-0.731173  ],\n",
       "       [-0.75730984],\n",
       "       [-0.77645641],\n",
       "       [-0.7880838 ],\n",
       "       [-0.747012  ],\n",
       "       [-0.829166  ],\n",
       "       [-0.80377285],\n",
       "       [-0.7821597 ],\n",
       "       [-0.81182078],\n",
       "       [-0.80949918],\n",
       "       [-0.82334701],\n",
       "       [-0.79001779],\n",
       "       [-0.74922405],\n",
       "       [-0.84169024],\n",
       "       [-0.73727717],\n",
       "       [-0.77223023],\n",
       "       [-0.75311352],\n",
       "       [-0.79116337],\n",
       "       [-0.75934728],\n",
       "       [-0.86809294],\n",
       "       [-0.75381057],\n",
       "       [-0.86468256],\n",
       "       [-0.74361965],\n",
       "       [-0.72908121],\n",
       "       [-0.82850668],\n",
       "       [-0.84043795],\n",
       "       [-0.76136364],\n",
       "       [-0.8343536 ],\n",
       "       [-0.74708881],\n",
       "       [-0.85574949],\n",
       "       [-0.85245676],\n",
       "       [-0.73090636],\n",
       "       [-0.77440264],\n",
       "       [-0.74974936],\n",
       "       [-0.82419543],\n",
       "       [-0.77402585],\n",
       "       [-0.78574242],\n",
       "       [-0.7844733 ],\n",
       "       [-0.77316412],\n",
       "       [-0.78843253],\n",
       "       [-0.80927467],\n",
       "       [-0.83109167],\n",
       "       [-0.76090519],\n",
       "       [-0.83816509],\n",
       "       [-0.77176485],\n",
       "       [-0.83715923],\n",
       "       [-0.78131343],\n",
       "       [-0.76396862],\n",
       "       [-0.83924191],\n",
       "       [-0.86186112],\n",
       "       [-0.85174179],\n",
       "       [-0.78406773],\n",
       "       [-0.74938477],\n",
       "       [-0.86399047],\n",
       "       [-0.76581026],\n",
       "       [-0.82177506],\n",
       "       [-0.80222751],\n",
       "       [-0.73807119],\n",
       "       [-0.82310669],\n",
       "       [-0.80410682],\n",
       "       [-0.86845167],\n",
       "       [-0.85877599],\n",
       "       [-0.83356075],\n",
       "       [-0.86643297],\n",
       "       [-0.78045221],\n",
       "       [-0.8096542 ],\n",
       "       [-0.79230956],\n",
       "       [-0.84551986],\n",
       "       [-0.82824105],\n",
       "       [-0.77582935],\n",
       "       [-0.73287933],\n",
       "       [-0.86321832],\n",
       "       [-0.74355256],\n",
       "       [-0.7882157 ],\n",
       "       [-0.79006227],\n",
       "       [-0.79912888],\n",
       "       [-0.86051472],\n",
       "       [-0.85759665],\n",
       "       [-0.78479216],\n",
       "       [-0.82182635],\n",
       "       [-0.73972257],\n",
       "       [-0.81247611],\n",
       "       [-0.84998837],\n",
       "       [-0.76857869],\n",
       "       [-0.82860841],\n",
       "       [-0.79553994],\n",
       "       [-0.77098436],\n",
       "       [-0.74214503],\n",
       "       [-0.75754161],\n",
       "       [-0.77404332],\n",
       "       [-0.77357716],\n",
       "       [-0.73564002],\n",
       "       [-0.82825643],\n",
       "       [-0.8702425 ],\n",
       "       [-0.83165699],\n",
       "       [-0.83935909],\n",
       "       [-0.77611284],\n",
       "       [-0.78011937],\n",
       "       [-0.78585361],\n",
       "       [-0.86808681],\n",
       "       [-0.76657575],\n",
       "       [-0.82430925],\n",
       "       [-0.7756539 ],\n",
       "       [-0.79110813],\n",
       "       [ 0.83423034],\n",
       "       [ 0.73340436],\n",
       "       [ 0.71395293],\n",
       "       [ 1.07098925],\n",
       "       [ 1.11307181],\n",
       "       [ 0.98296271],\n",
       "       [ 0.71831972],\n",
       "       [ 0.86295228],\n",
       "       [ 1.02130195],\n",
       "       [ 1.04594803],\n",
       "       [ 0.72548104],\n",
       "       [ 0.66823317],\n",
       "       [ 1.36958529],\n",
       "       [ 1.17305538],\n",
       "       [ 1.11661005],\n",
       "       [ 0.98307138],\n",
       "       [ 1.27459976],\n",
       "       [ 1.44642694],\n",
       "       [ 1.50528567],\n",
       "       [ 1.28866513],\n",
       "       [ 1.26031743],\n",
       "       [ 1.02295817],\n",
       "       [ 1.27933882],\n",
       "       [ 1.18598059],\n",
       "       [ 1.3813925 ],\n",
       "       [ 1.25767699],\n",
       "       [ 1.1736019 ],\n",
       "       [ 1.09127902],\n",
       "       [ 1.21586925],\n",
       "       [ 1.09223039],\n",
       "       [ 1.13768838],\n",
       "       [ 1.59675342],\n",
       "       [ 1.28904484],\n",
       "       [ 1.33876025],\n",
       "       [ 1.53233922],\n",
       "       [ 1.60141677],\n",
       "       [ 1.38146244],\n",
       "       [ 1.51223576],\n",
       "       [ 1.23588256],\n",
       "       [ 1.22381772],\n",
       "       [ 1.2790048 ],\n",
       "       [ 1.43257027],\n",
       "       [ 1.43808241],\n",
       "       [ 1.22922231],\n",
       "       [ 1.12561563],\n",
       "       [ 1.40974009],\n",
       "       [ 1.12283575],\n",
       "       [ 1.37905941],\n",
       "       [ 1.44731563],\n",
       "       [ 1.45141157],\n",
       "       [ 1.48152744],\n",
       "       [ 1.54954504],\n",
       "       [ 1.33709539],\n",
       "       [ 1.46829683],\n",
       "       [ 1.4050141 ],\n",
       "       [ 1.15859057],\n",
       "       [ 1.06689361],\n",
       "       [ 1.21436719],\n",
       "       [ 1.30466379],\n",
       "       [ 1.40383661],\n",
       "       [ 1.53708371],\n",
       "       [ 1.16457702],\n",
       "       [ 1.12429225],\n",
       "       [ 1.60177134],\n",
       "       [ 1.11431721],\n",
       "       [ 1.32540935],\n",
       "       [ 1.38642273],\n",
       "       [ 1.36124227],\n",
       "       [ 1.10177385],\n",
       "       [ 1.08524575],\n",
       "       [ 1.1128578 ],\n",
       "       [ 1.38643638],\n",
       "       [ 1.36304532],\n",
       "       [ 1.18604649],\n",
       "       [ 1.41628631],\n",
       "       [ 1.52016681],\n",
       "       [ 1.07654239],\n",
       "       [ 1.33670957],\n",
       "       [ 1.44565443],\n",
       "       [ 1.19662931],\n",
       "       [ 1.22823281],\n",
       "       [ 1.40253218],\n",
       "       [ 1.56454005],\n",
       "       [ 1.51438674],\n",
       "       [ 1.38516952],\n",
       "       [ 1.46899077],\n",
       "       [ 1.26076513],\n",
       "       [ 1.41812743],\n",
       "       [ 1.31852542],\n",
       "       [ 1.16110478],\n",
       "       [ 1.45275926],\n",
       "       [ 1.36997393],\n",
       "       [ 1.25723151],\n",
       "       [ 1.57220199],\n",
       "       [ 1.06479764],\n",
       "       [ 1.23281399],\n",
       "       [ 1.08528647],\n",
       "       [ 1.48968441],\n",
       "       [ 1.45297419],\n",
       "       [ 1.24169607],\n",
       "       [ 1.43790453],\n",
       "       [ 1.2785004 ],\n",
       "       [ 1.48382995],\n",
       "       [ 1.31169265],\n",
       "       [ 1.28781332],\n",
       "       [ 1.58553613],\n",
       "       [ 1.19583776],\n",
       "       [ 1.12151008],\n",
       "       [-0.35250349],\n",
       "       [-0.26479567],\n",
       "       [-0.39962031],\n",
       "       [-0.47160544],\n",
       "       [-0.40840388],\n",
       "       [-0.37042247],\n",
       "       [-0.44883702],\n",
       "       [-0.33573617],\n",
       "       [-0.25831579],\n",
       "       [-0.38277522],\n",
       "       [-0.40488824],\n",
       "       [-0.39440839],\n",
       "       [-0.77509723],\n",
       "       [-0.65253443],\n",
       "       [-0.72728022],\n",
       "       [-0.73167631],\n",
       "       [-0.6882095 ],\n",
       "       [-0.72293893],\n",
       "       [-0.69003755],\n",
       "       [-0.78366561],\n",
       "       [-0.6636319 ],\n",
       "       [-0.64340272],\n",
       "       [-0.68995268],\n",
       "       [-0.64115899],\n",
       "       [-0.83292321],\n",
       "       [-0.78536741],\n",
       "       [-0.76722084],\n",
       "       [-0.77014874],\n",
       "       [-0.79644794],\n",
       "       [-0.80569367],\n",
       "       [-0.83651316],\n",
       "       [-0.79786583],\n",
       "       [-0.83128515],\n",
       "       [-0.74788262],\n",
       "       [-0.82454968],\n",
       "       [-0.84647101],\n",
       "       [-0.78825327],\n",
       "       [-0.78211741],\n",
       "       [-0.74251058],\n",
       "       [-0.7847296 ],\n",
       "       [-0.8178686 ],\n",
       "       [-0.75237369],\n",
       "       [-0.78998354],\n",
       "       [-0.85597483],\n",
       "       [-0.78632299],\n",
       "       [-0.73734213],\n",
       "       [-0.81059211],\n",
       "       [-0.82490508],\n",
       "       [-0.84932652],\n",
       "       [-0.84818912],\n",
       "       [-0.80807162],\n",
       "       [-0.78484064],\n",
       "       [-0.8582896 ],\n",
       "       [-0.73580158],\n",
       "       [-0.76210229],\n",
       "       [-0.78613203],\n",
       "       [-0.75164888],\n",
       "       [-0.85835073],\n",
       "       [-0.80178754],\n",
       "       [-0.77993325],\n",
       "       [-0.75220135],\n",
       "       [-0.75863962],\n",
       "       [-0.83079766],\n",
       "       [-0.73620985],\n",
       "       [-0.85255954],\n",
       "       [-0.74557822],\n",
       "       [-0.73192653],\n",
       "       [-0.84503486],\n",
       "       [-0.76738913],\n",
       "       [-0.86453747],\n",
       "       [-0.81250829],\n",
       "       [-0.79671155]])"
      ]
     },
     "execution_count": 27,
     "metadata": {},
     "output_type": "execute_result"
    }
   ],
   "source": [
    "x_train[0]"
   ]
  },
  {
   "cell_type": "code",
   "execution_count": 29,
   "metadata": {},
   "outputs": [
    {
     "data": {
      "text/plain": [
       "array([-0.85882857, -0.72899302, -0.84814772, -0.72958579, -0.731173  ,\n",
       "       -0.75730984, -0.77645641, -0.7880838 , -0.747012  , -0.829166  ,\n",
       "       -0.80377285, -0.7821597 , -0.81182078, -0.80949918, -0.82334701,\n",
       "       -0.79001779, -0.74922405, -0.84169024, -0.73727717, -0.77223023,\n",
       "       -0.75311352, -0.79116337, -0.75934728, -0.86809294, -0.75381057,\n",
       "       -0.86468256, -0.74361965, -0.72908121, -0.82850668, -0.84043795,\n",
       "       -0.76136364, -0.8343536 , -0.74708881, -0.85574949, -0.85245676,\n",
       "       -0.73090636, -0.77440264, -0.74974936, -0.82419543, -0.77402585,\n",
       "       -0.78574242, -0.7844733 , -0.77316412, -0.78843253, -0.80927467,\n",
       "       -0.83109167, -0.76090519, -0.83816509, -0.77176485, -0.83715923,\n",
       "       -0.78131343, -0.76396862, -0.83924191, -0.86186112, -0.85174179,\n",
       "       -0.78406773, -0.74938477, -0.86399047, -0.76581026, -0.82177506,\n",
       "       -0.80222751, -0.73807119, -0.82310669, -0.80410682, -0.86845167,\n",
       "       -0.85877599, -0.83356075, -0.86643297, -0.78045221, -0.8096542 ,\n",
       "       -0.79230956, -0.84551986, -0.82824105, -0.77582935, -0.73287933,\n",
       "       -0.86321832, -0.74355256, -0.7882157 , -0.79006227, -0.79912888,\n",
       "       -0.86051472, -0.85759665, -0.78479216, -0.82182635, -0.73972257,\n",
       "       -0.81247611, -0.84998837, -0.76857869, -0.82860841, -0.79553994,\n",
       "       -0.77098436, -0.74214503, -0.75754161, -0.77404332, -0.77357716,\n",
       "       -0.73564002, -0.82825643, -0.8702425 , -0.83165699, -0.83935909,\n",
       "       -0.77611284, -0.78011937, -0.78585361, -0.86808681, -0.76657575,\n",
       "       -0.82430925, -0.7756539 , -0.79110813,  0.83423034,  0.73340436,\n",
       "        0.71395293,  1.07098925,  1.11307181,  0.98296271,  0.71831972,\n",
       "        0.86295228,  1.02130195,  1.04594803,  0.72548104,  0.66823317,\n",
       "        1.36958529,  1.17305538,  1.11661005,  0.98307138,  1.27459976,\n",
       "        1.44642694,  1.50528567,  1.28866513,  1.26031743,  1.02295817,\n",
       "        1.27933882,  1.18598059,  1.3813925 ,  1.25767699,  1.1736019 ,\n",
       "        1.09127902,  1.21586925,  1.09223039,  1.13768838,  1.59675342,\n",
       "        1.28904484,  1.33876025,  1.53233922,  1.60141677,  1.38146244,\n",
       "        1.51223576,  1.23588256,  1.22381772,  1.2790048 ,  1.43257027,\n",
       "        1.43808241,  1.22922231,  1.12561563,  1.40974009,  1.12283575,\n",
       "        1.37905941,  1.44731563,  1.45141157,  1.48152744,  1.54954504,\n",
       "        1.33709539,  1.46829683,  1.4050141 ,  1.15859057,  1.06689361,\n",
       "        1.21436719,  1.30466379,  1.40383661,  1.53708371,  1.16457702,\n",
       "        1.12429225,  1.60177134,  1.11431721,  1.32540935,  1.38642273,\n",
       "        1.36124227,  1.10177385,  1.08524575,  1.1128578 ,  1.38643638,\n",
       "        1.36304532,  1.18604649,  1.41628631,  1.52016681,  1.07654239,\n",
       "        1.33670957,  1.44565443,  1.19662931,  1.22823281,  1.40253218,\n",
       "        1.56454005,  1.51438674,  1.38516952,  1.46899077,  1.26076513,\n",
       "        1.41812743,  1.31852542,  1.16110478,  1.45275926,  1.36997393,\n",
       "        1.25723151,  1.57220199,  1.06479764,  1.23281399,  1.08528647,\n",
       "        1.48968441,  1.45297419,  1.24169607,  1.43790453,  1.2785004 ,\n",
       "        1.48382995,  1.31169265,  1.28781332,  1.58553613,  1.19583776,\n",
       "        1.12151008, -0.35250349, -0.26479567, -0.39962031, -0.47160544,\n",
       "       -0.40840388, -0.37042247, -0.44883702, -0.33573617, -0.25831579,\n",
       "       -0.38277522, -0.40488824, -0.39440839, -0.77509723, -0.65253443,\n",
       "       -0.72728022, -0.73167631, -0.6882095 , -0.72293893, -0.69003755,\n",
       "       -0.78366561, -0.6636319 , -0.64340272, -0.68995268, -0.64115899,\n",
       "       -0.83292321, -0.78536741, -0.76722084, -0.77014874, -0.79644794,\n",
       "       -0.80569367, -0.83651316, -0.79786583, -0.83128515, -0.74788262,\n",
       "       -0.82454968, -0.84647101, -0.78825327, -0.78211741, -0.74251058,\n",
       "       -0.7847296 , -0.8178686 , -0.75237369, -0.78998354, -0.85597483,\n",
       "       -0.78632299, -0.73734213, -0.81059211, -0.82490508, -0.84932652,\n",
       "       -0.84818912, -0.80807162, -0.78484064, -0.8582896 , -0.73580158,\n",
       "       -0.76210229, -0.78613203, -0.75164888, -0.85835073, -0.80178754,\n",
       "       -0.77993325, -0.75220135, -0.75863962, -0.83079766, -0.73620985,\n",
       "       -0.85255954, -0.74557822, -0.73192653, -0.84503486, -0.76738913,\n",
       "       -0.86453747, -0.81250829, -0.79671155])"
      ]
     },
     "execution_count": 29,
     "metadata": {},
     "output_type": "execute_result"
    }
   ],
   "source": [
    "# Pythons flatten() method collapses an array into one dimension:\n",
    "x_train[0].flatten()"
   ]
  },
  {
   "cell_type": "code",
   "execution_count": 26,
   "metadata": {
    "scrolled": true
   },
   "outputs": [
    {
     "data": {
      "text/plain": [
       "value    4032\n",
       "dtype: int64"
      ]
     },
     "execution_count": 26,
     "metadata": {},
     "output_type": "execute_result"
    }
   ],
   "source": [
    "df_train_vals.count()"
   ]
  },
  {
   "cell_type": "code",
   "execution_count": 20,
   "metadata": {},
   "outputs": [
    {
     "data": {
      "image/png": "[encoded data removed]",
      "text/plain": [
       "<Figure size 864x432 with 1 Axes>"
      ]
     },
     "metadata": {
      "needs_background": "light"
     },
     "output_type": "display_data"
    }
   ],
   "source": [
    "# Selecting where to start the window:\n",
    "window_no = 530\n",
    "fig, ax = plt.subplots(figsize=(12, 6))\n",
    "y = df_train_vals['value'].values\n",
    "\n",
    "ax.plot(np.arange(y.shape[0]), y, label='signal')\n",
    "\n",
    "# The plot window is superimposed over the original plot: \n",
    "w = x_train[window_no].flatten()\n",
    "\n",
    "ax.plot(np.arange(w.shape[0]) + window_no, w, label='window')\n",
    "\n",
    "ax.legend();"
   ]
  },
  {
   "cell_type": "code",
   "execution_count": 36,
   "metadata": {},
   "outputs": [
    {
     "data": {
      "text/plain": [
       "(288,)"
      ]
     },
     "execution_count": 36,
     "metadata": {},
     "output_type": "execute_result"
    }
   ],
   "source": [
    "w.shape"
   ]
  },
  {
   "cell_type": "code",
   "execution_count": 37,
   "metadata": {},
   "outputs": [
    {
     "data": {
      "text/plain": [
       "(3745, 288, 1)"
      ]
     },
     "execution_count": 37,
     "metadata": {},
     "output_type": "execute_result"
    }
   ],
   "source": [
    "x_train.shape"
   ]
  },
  {
   "cell_type": "code",
   "execution_count": 29,
   "metadata": {},
   "outputs": [
    {
     "data": {
      "text/plain": [
       "4032"
      ]
     },
     "execution_count": 29,
     "metadata": {},
     "output_type": "execute_result"
    }
   ],
   "source": [
    "y.shape[0]"
   ]
  },
  {
   "cell_type": "code",
   "execution_count": 35,
   "metadata": {},
   "outputs": [
    {
     "data": {
      "image/png": "[encoded data removed]",
      "text/plain": [
       "<Figure size 864x432 with 1 Axes>"
      ]
     },
     "metadata": {
      "needs_background": "light"
     },
     "output_type": "display_data"
    }
   ],
   "source": [
    "# A window allows you to 'zoom in' on a section of the data and gives a clearer idea of what is going on in that area:\n",
    "# Starting the window at 1820:\n",
    "window_no = 1820\n",
    "fig, ax = plt.subplots(figsize=(12, 6))\n",
    "w = x_train[window_no].flatten()\n",
    "ax.plot(np.arange(w.shape[0]) + window_no, w, label='window')\n",
    "ax.legend();"
   ]
  },
  {
   "cell_type": "code",
   "execution_count": null,
   "metadata": {},
   "outputs": [],
   "source": []
  }
 ],
 "metadata": {
  "kernelspec": {
   "display_name": "Python 3",
   "language": "python",
   "name": "python3"
  },
  "language_info": {
   "codemirror_mode": {
    "name": "ipython",
    "version": 3
   },
   "file_extension": ".py",
   "mimetype": "text/x-python",
   "name": "python",
   "nbconvert_exporter": "python",
   "pygments_lexer": "ipython3",
   "version": "3.8.3"
  }
 },
 "nbformat": 4,
 "nbformat_minor": 4
}
