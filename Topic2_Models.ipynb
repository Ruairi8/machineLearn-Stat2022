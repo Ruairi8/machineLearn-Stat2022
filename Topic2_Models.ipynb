{
 "cells": [
  {
   "cell_type": "markdown",
   "metadata": {},
   "source": [
    "### Exercise: Use numpy and matplotlib to plot the absolute value function. Explain why the absolute value function is not typically used to fit straight lines to data. "
   ]
  },
  {
   "cell_type": "markdown",
   "metadata": {},
   "source": [
    "In mathematics, the absolute value or modulus of a real number $x$, denoted $|x|$, is the non-negative value of $x$ without regard to its sign. Namely, $|x|=x$ if x is a positive number, and $|x|=-x$ if $x$ is negative (in which case negating $x$ makes $-x$ positive), and $|0|=0$. "
   ]
  },
  {
   "cell_type": "code",
   "execution_count": 4,
   "metadata": {},
   "outputs": [
    {
     "data": {
      "image/png": "[encoded data removed]",
      "text/plain": [
       "<Figure size 432x288 with 1 Axes>"
      ]
     },
     "metadata": {
      "needs_background": "light"
     },
     "output_type": "display_data"
    }
   ],
   "source": [
    "import numpy as np\n",
    "import matplotlib.pyplot as plt\n",
    "# Lispace numpy method to return evenly spaces numbers over a given interval, 'num' is the number of data points.\n",
    "x = np.linspace(-5, 5, num=110)\n",
    "# numpy absolute method used to get the absolute value element-wise.\n",
    "plt.plot(x, np.absolute(x))\n",
    "plt.show()"
   ]
  },
  {
   "cell_type": "markdown",
   "metadata": {},
   "source": [
    "The absolute value function isn't used to fit straight lines of data because the absolute values result in discontinuous derivatives that can't be treated analytically. If using the absolute value function, one still has to go through the entire process of drawing vertical regression lines from the data points to an estimated line of best fit, measuring the distances and summing them. \n",
    "The graph of the absolute value function looks like the line $y = x$ for positive $x$ and $y = −x$ for negative\n",
    "$x$. Both of these functions have a y-intercept of 0, and since the function is defined to be 0 at $x = 0$, the\n",
    "absolute value function is continuous. Despite being continuous, the absolute value function ($f(x) = |x|$), is not differentiable at $x = 0$"
   ]
  },
  {
   "cell_type": "code",
   "execution_count": null,
   "metadata": {},
   "outputs": [],
   "source": []
  },
  {
   "cell_type": "markdown",
   "metadata": {},
   "source": [
    "### References:"
   ]
  },
  {
   "cell_type": "markdown",
   "metadata": {},
   "source": [
    "'Absolute Value' Wikipedia (2022). Author: David Eppstein. Available at: https://en.wikipedia.org/wiki/Absolute_value#Absolute_value_function \n",
    "(Accessed: 18th October 2022)."
   ]
  },
  {
   "cell_type": "markdown",
   "metadata": {},
   "source": [
    "https://docs.scipy.org/doc/numpy-1.6.0/reference/generated/numpy.absolute.html"
   ]
  }
 ],
 "metadata": {
  "kernelspec": {
   "display_name": "Python 3",
   "language": "python",
   "name": "python3"
  },
  "language_info": {
   "codemirror_mode": {
    "name": "ipython",
    "version": 3
   },
   "file_extension": ".py",
   "mimetype": "text/x-python",
   "name": "python",
   "nbconvert_exporter": "python",
   "pygments_lexer": "ipython3",
   "version": "3.8.3"
  }
 },
 "nbformat": 4,
 "nbformat_minor": 4
}
